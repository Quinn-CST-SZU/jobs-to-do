{
 "cells": [
  {
   "cell_type": "markdown",
   "id": "24fc9258",
   "metadata": {},
   "source": [
    "该备忘单演示了 11 种不同的经典时间序列预测方法;他们是：\n",
    "\n",
    "1. 自回归（AR）\n",
    "2. 移动平均线（MA）\n",
    "3. 自回归移动平均线（ARMA）\n",
    "4. 自回归综合移动平均线（ARIMA）\n",
    "5. 季节性自回归整合移动平均线（SARIMA）\n",
    "6. 具有外生回归量的季节性自回归整合移动平均线（SARIMAX）\n",
    "7. 向量自回归（VAR）\n",
    "8. 向量自回归移动平均值（VARMA）\n",
    "9. 具有外源回归量的向量自回归移动平均值（VARMAX）\n",
    "10. 简单指数平滑（SES）\n",
    "11. 霍尔特·温特的指数平滑（HWES）"
   ]
  },
  {
   "cell_type": "markdown",
   "id": "488d6ff8",
   "metadata": {},
   "source": [
    "# 一.单变量模型"
   ]
  },
  {
   "cell_type": "markdown",
   "id": "6639e82a",
   "metadata": {},
   "source": [
    "## 1.自回归（AR）\n",
    "自回归（AR）方法将序列中的下一步建模为先前时间步骤的观察的线性函数。\n",
    "\n",
    "该模型的符号涉及指定模型 p 的顺序作为 AR 函数的参数，例如， AR（P）。例如，AR（1）是一阶自回归模型。\n",
    "\n",
    "该方法适用于**没有趋势和季节性成分**的单变量时间序列。\n",
    "\n",
    "要求:自相关系数约接近1效果越好,如果自相关系数(R)小于0.5，则不宜采用，否则预测结果极不准确。\n",
    "\n",
    "自回归只能适用于预测与自身前期相关的经济现象，即受自身历史因素影响较大的经济现象，如矿的开采量，各种自然资源产量等；对于受社会因素影响较大的经济现象，不宜采用自回归"
   ]
  },
  {
   "cell_type": "code",
   "execution_count": 4,
   "id": "d80cdaaa",
   "metadata": {},
   "outputs": [],
   "source": [
    "import pandas as pd\n",
    "import numpy as np\n",
    "\n",
    "import matplotlib.pyplot as plt"
   ]
  },
  {
   "cell_type": "code",
   "execution_count": 9,
   "id": "a93695cf",
   "metadata": {},
   "outputs": [
    {
     "name": "stdout",
     "output_type": "stream",
     "text": [
      "[100.47231901]\n"
     ]
    }
   ],
   "source": [
    "# AR example\n",
    "from statsmodels.tsa.ar_model import AR\n",
    "from random import random\n",
    "\n",
    "# contrived dataset\n",
    "data = [x + random() for x in range(1, 100)]\n",
    "# fit model\n",
    "model = AR(data)\n",
    "model_fit = model.fit()\n",
    "# make prediction\n",
    "yhat = model_fit.predict(len(data), len(data))\n",
    "print(yhat)"
   ]
  },
  {
   "cell_type": "markdown",
   "id": "8b9478c7",
   "metadata": {},
   "source": [
    "## 2.移动平均线（MA）\n",
    "移动平均（MA）方法将序列中的下一步建模为来自先前时间步骤的平均过程的残余误差的线性函数。\n",
    "\n",
    "移动平均模型与计算时间序列的移动平均值不同。\n",
    "\n",
    "该模型的表示法涉及将模型 q 的顺序指定为 MA 函数的参数，例如， MA（Q）。例如，MA（1）是一阶移动平均模型。\n",
    "\n",
    "该方法适用于**没有趋势和季节性成分**的单变量时间序列。\n",
    "\n",
    "移动平均模型关注的是自回归模型中误差项的累加\n",
    "\n",
    "移动平均法能有效地消除预测中的随机波动"
   ]
  },
  {
   "cell_type": "code",
   "execution_count": 12,
   "id": "ff3da7c7",
   "metadata": {},
   "outputs": [
    {
     "name": "stdout",
     "output_type": "stream",
     "text": [
      "[72.84097969]\n"
     ]
    }
   ],
   "source": [
    "# MA example\n",
    "from statsmodels.tsa.arima_model import ARMA\n",
    "from random import random\n",
    "\n",
    "# contrived dataset\n",
    "data = [x + random() for x in range(1, 100)]\n",
    "# 使用 ARMA 类创建 MA 模型并设置零阶 AR 模型\n",
    "# 我们必须在 order 参数中指定 MA 模型的顺序\n",
    "# fit model\n",
    "model = ARMA(data, order=(0, 1))\n",
    "model_fit = model.fit(disp=False)\n",
    "# make prediction\n",
    "yhat = model_fit.predict(len(data), len(data))\n",
    "print(yhat)"
   ]
  },
  {
   "cell_type": "markdown",
   "id": "890571a3",
   "metadata": {},
   "source": [
    "## 3.自回归移动平均线（ARMA）\n",
    "自回归移动平均（ARMA）方法将序列中的下一步建模为先前时间步骤的观测和再造误差的线性函数。\n",
    "\n",
    "它结合了自回归（AR）和移动平均（MA）模型。\n",
    "\n",
    "该模型的表示法涉及将 AR（p）和 MA（q）模型的顺序指定为 ARMA 函数的参数，例如，ARMA 函数的参数。 ARMA（p，q）。 ARIMA 模型可用于开发 AR 或 MA 模型。\n",
    "\n",
    "该方法适用于**没有趋势和季节性成分**的单变量时间序列。"
   ]
  },
  {
   "cell_type": "code",
   "execution_count": 15,
   "id": "200cd046",
   "metadata": {},
   "outputs": [
    {
     "name": "stdout",
     "output_type": "stream",
     "text": [
      "[0.52657996]\n"
     ]
    },
    {
     "name": "stderr",
     "output_type": "stream",
     "text": [
      "/usr/local/lib/python3.7/site-packages/statsmodels/base/model.py:548: HessianInversionWarning: Inverting hessian failed, no bse or cov_params available\n",
      "  'available', HessianInversionWarning)\n"
     ]
    }
   ],
   "source": [
    "# ARMA example\n",
    "from statsmodels.tsa.arima_model import ARMA\n",
    "from random import random\n",
    "# contrived dataset\n",
    "data = [random() for x in range(1, 100)]\n",
    "# fit model\n",
    "model = ARMA(data, order=(2, 1))\n",
    "model_fit = model.fit(disp=False)\n",
    "# make prediction\n",
    "yhat = model_fit.predict(len(data), len(data))\n",
    "print(yhat)"
   ]
  },
  {
   "cell_type": "markdown",
   "id": "fb814c59",
   "metadata": {},
   "source": [
    "## 4.自回归综合移动平均线（ARIMA）\n",
    "自回归整合移动平均（ARIMA）方法将序列中的下一步建模为先前时间步长的差异观测值和残差误差的线性函数。\n",
    "\n",
    "它结合了自回归（AR）和移动平均（MA）模型以及序列的差分预处理步骤，使序列静止，称为积分（I）。\n",
    "\n",
    "该模型的表示法涉及将 AR（p），I（d）和 MA（q）模型的顺序指定为 ARIMA 函数的参数，例如 ARIMA 函数的参数。 ARIMA（p，d，q）。 ARIMA 模型也可用于开发 AR，MA 和 ARMA 模型。\n",
    "\n",
    "该方法适用于**具有趋势且没有季节性成分**的单变量时间序列。"
   ]
  },
  {
   "cell_type": "code",
   "execution_count": 16,
   "id": "5f24b0fe",
   "metadata": {},
   "outputs": [
    {
     "name": "stdout",
     "output_type": "stream",
     "text": [
      "[100.4205625]\n"
     ]
    },
    {
     "name": "stderr",
     "output_type": "stream",
     "text": [
      "/usr/local/lib/python3.7/site-packages/statsmodels/tsa/arima_model.py:472: FutureWarning: \n",
      "statsmodels.tsa.arima_model.ARMA and statsmodels.tsa.arima_model.ARIMA have\n",
      "been deprecated in favor of statsmodels.tsa.arima.model.ARIMA (note the .\n",
      "between arima and model) and\n",
      "statsmodels.tsa.SARIMAX. These will be removed after the 0.12 release.\n",
      "\n",
      "statsmodels.tsa.arima.model.ARIMA makes use of the statespace framework and\n",
      "is both well tested and maintained.\n",
      "\n",
      "To silence this warning and continue using ARMA and ARIMA until they are\n",
      "removed, use:\n",
      "\n",
      "import warnings\n",
      "warnings.filterwarnings('ignore', 'statsmodels.tsa.arima_model.ARMA',\n",
      "                        FutureWarning)\n",
      "warnings.filterwarnings('ignore', 'statsmodels.tsa.arima_model.ARIMA',\n",
      "                        FutureWarning)\n",
      "\n",
      "  warnings.warn(ARIMA_DEPRECATION_WARN, FutureWarning)\n",
      "/usr/local/lib/python3.7/site-packages/statsmodels/tsa/arima_model.py:472: FutureWarning: \n",
      "statsmodels.tsa.arima_model.ARMA and statsmodels.tsa.arima_model.ARIMA have\n",
      "been deprecated in favor of statsmodels.tsa.arima.model.ARIMA (note the .\n",
      "between arima and model) and\n",
      "statsmodels.tsa.SARIMAX. These will be removed after the 0.12 release.\n",
      "\n",
      "statsmodels.tsa.arima.model.ARIMA makes use of the statespace framework and\n",
      "is both well tested and maintained.\n",
      "\n",
      "To silence this warning and continue using ARMA and ARIMA until they are\n",
      "removed, use:\n",
      "\n",
      "import warnings\n",
      "warnings.filterwarnings('ignore', 'statsmodels.tsa.arima_model.ARMA',\n",
      "                        FutureWarning)\n",
      "warnings.filterwarnings('ignore', 'statsmodels.tsa.arima_model.ARIMA',\n",
      "                        FutureWarning)\n",
      "\n",
      "  warnings.warn(ARIMA_DEPRECATION_WARN, FutureWarning)\n"
     ]
    }
   ],
   "source": [
    "# ARIMA example\n",
    "from statsmodels.tsa.arima_model import ARIMA\n",
    "from random import random\n",
    "# contrived dataset\n",
    "data = [x + random() for x in range(1, 100)]\n",
    "# fit model\n",
    "model = ARIMA(data, order=(1, 1, 1))\n",
    "model_fit = model.fit(disp=False)\n",
    "# make prediction\n",
    "yhat = model_fit.predict(len(data), len(data), typ='levels')\n",
    "print(yhat)"
   ]
  },
  {
   "cell_type": "markdown",
   "id": "410190e6",
   "metadata": {},
   "source": [
    "## 5.季节性自回归整合移动平均线（SARIMA）\n",
    "季节性自回归综合移动平均线（SARIMA）方法将序列中的下一步建模为差异观测值，误差，差异季节观测值和先前时间步长的季节误差的线性函数。\n",
    "\n",
    "它结合了 ARIMA 模型，能够在季节性水平上执行相同的自回归，差分和移动平均建模。\n",
    "\n",
    "该模型的表示法涉及指定 AR（p），I（d）和 MA（q）模型的顺序作为 ARIMA 函数和 AR（P），I（D），MA（Q）和 m 的参数。季节性参数，例如 SARIMA（p，d，q）（P，D，Q）m 其中“m”是每个季节（季节性时期）的时间步数。 SARIMA 模型可用于开发 AR，MA，ARMA 和 ARIMA 模型。\n",
    "\n",
    "该方法适用于**具有趋势和/或季节性分量**的单变量时间序列。"
   ]
  },
  {
   "cell_type": "code",
   "execution_count": 19,
   "id": "0376950d",
   "metadata": {},
   "outputs": [
    {
     "name": "stdout",
     "output_type": "stream",
     "text": [
      "[100.36487417]\n"
     ]
    }
   ],
   "source": [
    "# SARIMA example\n",
    "from statsmodels.tsa.statespace.sarimax import SARIMAX\n",
    "from random import random\n",
    "\n",
    "# contrived dataset\n",
    "data = [x + random() for x in range(1, 100)]\n",
    "# fit model\n",
    "# it is 4 for quarterly data or 12 for monthly data\n",
    "model = SARIMAX(data, order=(1, 1, 1), seasonal_order=(1, 1, 1, 12))\n",
    "model_fit = model.fit(disp=False)\n",
    "# make prediction\n",
    "yhat = model_fit.predict(len(data), len(data))\n",
    "print(yhat)"
   ]
  },
  {
   "cell_type": "markdown",
   "id": "ee1633f1",
   "metadata": {},
   "source": [
    "## 6.具有外生回归量的季节性自回归整合移动平均线（SARIMAX）\n",
    "具有外源回归量的季节性自回归整合移动平均值（SARIMAX）是 SARIMA 模型的扩展，其还包括外生变量的建模。\n",
    "\n",
    "外生变量也称为协变量，可以被认为是并行输入序列，其在与原始序列相同的时间步骤中具有观察结果。初级系列可以称为内源性数据，以将其与外源序列进行对比。对于外源变量的观察结果直接在每个时间步骤包括在模型中，并且不以与主要内源序列相同的方式建模（例如作为 AR，MA 等过程）。\n",
    "\n",
    "SARIMAX 方法还可用于使用外生变量对包含的模型进行建模，例如 ARX，MAX，ARMAX 和 ARIMAX。\n",
    "\n",
    "该方法适用于**具有趋势和/或季节性成分**和外生变量的单变量时间序列。"
   ]
  },
  {
   "cell_type": "code",
   "execution_count": 20,
   "id": "f3804493",
   "metadata": {},
   "outputs": [
    {
     "name": "stdout",
     "output_type": "stream",
     "text": [
      "[100.11654877]\n"
     ]
    }
   ],
   "source": [
    "# SARIMAX example\n",
    "from statsmodels.tsa.statespace.sarimax import SARIMAX\n",
    "from random import random\n",
    "# contrived dataset\n",
    "data1 = [x + random() for x in range(1, 100)]\n",
    "data2 = [x + random() for x in range(101, 200)]\n",
    "# fit model\n",
    "model = SARIMAX(data1, exog=data2, order=(1, 1, 1), seasonal_order=(0, 0, 0, 0))\n",
    "model_fit = model.fit(disp=False)\n",
    "# make prediction\n",
    "exog2 = [200 + random()]\n",
    "yhat = model_fit.predict(len(data1), len(data1), exog=[exog2])\n",
    "print(yhat)"
   ]
  },
  {
   "cell_type": "markdown",
   "id": "92dca014",
   "metadata": {},
   "source": [
    "# 二.多变量模型"
   ]
  },
  {
   "cell_type": "markdown",
   "id": "d8435d50",
   "metadata": {},
   "source": [
    "## 1.向量自回归（VAR）\n",
    "向量自回归（VAR）方法使用 AR 模型模拟每个时间序列中的下一步。 AR 是多个并行时间序列的推广，例如，多变量时间序列。\n",
    "\n",
    "该模型的表示法涉及将 AR（p）模型的顺序指定为 VAR 函数的参数，例如， VAR（P）。\n",
    "\n",
    "该方法适用于**没有趋势和季节性成分**的多变量时间序列。"
   ]
  },
  {
   "cell_type": "code",
   "execution_count": 22,
   "id": "481b0c06",
   "metadata": {},
   "outputs": [
    {
     "name": "stdout",
     "output_type": "stream",
     "text": [
      "[[101.00939551 101.62266398]]\n"
     ]
    },
    {
     "name": "stderr",
     "output_type": "stream",
     "text": [
      "/usr/local/lib/python3.7/site-packages/statsmodels/base/wrapper.py:34: FutureWarning: y is a deprecated alias for endog, will be removed in version 0.11.0\n",
      "  obj = getattr(results, attr)\n"
     ]
    }
   ],
   "source": [
    "# VAR example\n",
    "from statsmodels.tsa.vector_ar.var_model import VAR\n",
    "from random import random\n",
    "# contrived dataset with dependency\n",
    "data = list()\n",
    "for i in range(100):\n",
    "    v1 = i + random()\n",
    "    v2 = v1 + random()\n",
    "    row = [v1, v2]\n",
    "    data.append(row)\n",
    "# fit model\n",
    "model = VAR(data)\n",
    "model_fit = model.fit()\n",
    "# make prediction\n",
    "yhat = model_fit.forecast(model_fit.y, steps=1)\n",
    "print(yhat)"
   ]
  },
  {
   "cell_type": "markdown",
   "id": "11766b15",
   "metadata": {},
   "source": [
    "## 2.向量自回归移动平均值（VARMA）\n",
    "向量自回归移动平均（VARMA）方法使用 ARMA 模型对每个时间序列中的下一步进行建模。这是 ARMA 对多个并行时间序列的推广，例如多变量时间序列。\n",
    "\n",
    "该模型的表示法涉及将 AR（p）和 MA（q）模型的顺序指定为 VARMA 函数的参数，例如， VARMA（p，q）。 VARMA 模型也可用于开发 VAR 或 VMA 模型。\n",
    "\n",
    "该方法适用于**没有趋势和季节性成分**的多变量时间序列。"
   ]
  },
  {
   "cell_type": "code",
   "execution_count": 24,
   "id": "19655063",
   "metadata": {},
   "outputs": [
    {
     "name": "stderr",
     "output_type": "stream",
     "text": [
      "/usr/local/lib/python3.7/site-packages/statsmodels/tsa/statespace/varmax.py:163: EstimationWarning: Estimation of VARMA(p,q) models is not generically robust, due especially to identification issues.\n",
      "  EstimationWarning)\n"
     ]
    },
    {
     "name": "stdout",
     "output_type": "stream",
     "text": [
      "[[0.5043395  1.02437925]]\n"
     ]
    },
    {
     "name": "stderr",
     "output_type": "stream",
     "text": [
      "/usr/local/lib/python3.7/site-packages/statsmodels/base/model.py:568: ConvergenceWarning: Maximum Likelihood optimization failed to converge. Check mle_retvals\n",
      "  ConvergenceWarning)\n"
     ]
    }
   ],
   "source": [
    "# VARMA example\n",
    "from statsmodels.tsa.statespace.varmax import VARMAX\n",
    "from random import random\n",
    "# contrived dataset with dependency\n",
    "data = list()\n",
    "for i in range(100):\n",
    "    v1 = random()\n",
    "    v2 = v1 + random()\n",
    "    row = [v1, v2]\n",
    "    data.append(row)\n",
    "# fit model\n",
    "model = VARMAX(data, order=(1, 1))\n",
    "model_fit = model.fit(disp=False)\n",
    "# make prediction\n",
    "yhat = model_fit.forecast()\n",
    "print(yhat)"
   ]
  },
  {
   "cell_type": "markdown",
   "id": "acd3f96f",
   "metadata": {},
   "source": [
    "## 3.具有外源回归量的向量自回归移动平均值（VARMAX）\n",
    "具有外源回归量的向量自回归移动平均值（VARMAX）是 VARMA 模型的扩展，其还包括外生变量的建模。它是 ARMAX 方法的多变量版本。\n",
    "\n",
    "外生变量也称为协变量，可以被认为是并行输入序列，其在与原始序列相同的时间步骤中具有观察结果。初级系列被称为内源性数据，以将其与外源序列进行对比。对于外源变量的观察结果直接在每个时间步骤包括在模型中，并且不以与主要内源序列相同的方式建模（例如作为 AR，MA 等过程）。\n",
    "\n",
    "VARMAX 方法还可用于使用外生变量（如 VARX 和 VMAX）对包含的模型进行建模。\n",
    "\n",
    "该方法适用于**没有趋势和季节性成分**以及**外生变量**的多变量时间序列。"
   ]
  },
  {
   "cell_type": "code",
   "execution_count": 25,
   "id": "c210e087",
   "metadata": {},
   "outputs": [
    {
     "name": "stderr",
     "output_type": "stream",
     "text": [
      "/usr/local/lib/python3.7/site-packages/statsmodels/tsa/statespace/varmax.py:163: EstimationWarning: Estimation of VARMA(p,q) models is not generically robust, due especially to identification issues.\n",
      "  EstimationWarning)\n"
     ]
    },
    {
     "name": "stdout",
     "output_type": "stream",
     "text": [
      "[[0.44227433 0.93264486]]\n"
     ]
    },
    {
     "name": "stderr",
     "output_type": "stream",
     "text": [
      "/usr/local/lib/python3.7/site-packages/statsmodels/tsa/statespace/varmax.py:163: EstimationWarning: Estimation of VARMA(p,q) models is not generically robust, due especially to identification issues.\n",
      "  EstimationWarning)\n",
      "/usr/local/lib/python3.7/site-packages/statsmodels/tsa/statespace/varmax.py:163: EstimationWarning: Estimation of VARMA(p,q) models is not generically robust, due especially to identification issues.\n",
      "  EstimationWarning)\n"
     ]
    }
   ],
   "source": [
    "# VARMAX example\n",
    "from statsmodels.tsa.statespace.varmax import VARMAX\n",
    "from random import random\n",
    "# contrived dataset with dependency\n",
    "data = list()\n",
    "for i in range(100):\n",
    "    v1 = random()\n",
    "    v2 = v1 + random()\n",
    "    row = [v1, v2]\n",
    "    data.append(row)\n",
    "data_exog = [x + random() for x in range(100)]\n",
    "# fit model\n",
    "model = VARMAX(data, exog=data_exog, order=(1, 1))\n",
    "model_fit = model.fit(disp=False)\n",
    "# make prediction\n",
    "data_exog2 = [[100]]\n",
    "yhat = model_fit.forecast(exog=data_exog2)\n",
    "print(yhat)"
   ]
  },
  {
   "cell_type": "markdown",
   "id": "6fa9f816",
   "metadata": {},
   "source": [
    "# 三.指数平滑"
   ]
  },
  {
   "cell_type": "markdown",
   "id": "453ccd81",
   "metadata": {},
   "source": [
    "## 1.简单指数平滑（SES）\n",
    "简单指数平滑（SES）方法将下一个时间步长建模为先前时间步长的观测值的指数加权线性函数。\n",
    "\n",
    "该方法适用于**没有趋势和季节性成分**的**单变量**时间序列。"
   ]
  },
  {
   "cell_type": "code",
   "execution_count": 26,
   "id": "be78c7f8",
   "metadata": {},
   "outputs": [
    {
     "name": "stdout",
     "output_type": "stream",
     "text": [
      "[99.27648314]\n"
     ]
    },
    {
     "name": "stderr",
     "output_type": "stream",
     "text": [
      "/usr/local/lib/python3.7/site-packages/statsmodels/tsa/holtwinters/model.py:429: FutureWarning: After 0.13 initialization must be handled at model creation\n",
      "  FutureWarning,\n"
     ]
    }
   ],
   "source": [
    "# SES example\n",
    "from statsmodels.tsa.holtwinters import SimpleExpSmoothing\n",
    "from random import random\n",
    "# contrived dataset\n",
    "data = [x + random() for x in range(1, 100)]\n",
    "# fit model\n",
    "model = SimpleExpSmoothing(data)\n",
    "model_fit = model.fit()\n",
    "# make prediction\n",
    "yhat = model_fit.predict(len(data), len(data))\n",
    "print(yhat)"
   ]
  },
  {
   "cell_type": "markdown",
   "id": "4f2a36e9",
   "metadata": {},
   "source": [
    "## 2.霍尔特·温特的指数平滑（HWES）\n",
    "Holt Winter 的指数平滑（HWES）也称为三次指数平滑方法，将下一个时间步长建模为先前时间步长的观测值的指数加权线性函数，并考虑趋势和季节性。\n",
    "\n",
    "该方法适用于**具有趋势和/或季节性分量**的**单变量**时间序列。"
   ]
  },
  {
   "cell_type": "code",
   "execution_count": 27,
   "id": "aa914cda",
   "metadata": {},
   "outputs": [
    {
     "name": "stdout",
     "output_type": "stream",
     "text": [
      "[99.41627181]\n"
     ]
    }
   ],
   "source": [
    "# HWES example\n",
    "from statsmodels.tsa.holtwinters import ExponentialSmoothing\n",
    "from random import random\n",
    "# contrived dataset\n",
    "data = [x + random() for x in range(1, 100)]\n",
    "# fit model\n",
    "model = ExponentialSmoothing(data)\n",
    "model_fit = model.fit()\n",
    "# make prediction\n",
    "yhat = model_fit.predict(len(data), len(data))\n",
    "print(yhat)"
   ]
  },
  {
   "cell_type": "code",
   "execution_count": null,
   "id": "7d6ad750",
   "metadata": {},
   "outputs": [],
   "source": []
  }
 ],
 "metadata": {
  "kernelspec": {
   "display_name": "Python 3.7",
   "language": "python",
   "name": "python3"
  },
  "language_info": {
   "codemirror_mode": {
    "name": "ipython",
    "version": 3
   },
   "file_extension": ".py",
   "mimetype": "text/x-python",
   "name": "python",
   "nbconvert_exporter": "python",
   "pygments_lexer": "ipython3",
   "version": "3.7.3"
  }
 },
 "nbformat": 4,
 "nbformat_minor": 5
}
